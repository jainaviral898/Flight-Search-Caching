{
  "nbformat": 4,
  "nbformat_minor": 0,
  "metadata": {
    "colab": {
      "name": "survival.ipynb",
      "provenance": [],
      "collapsed_sections": []
    },
    "kernelspec": {
      "name": "python3",
      "display_name": "Python 3"
    },
    "language_info": {
      "name": "python"
    }
  },
  "cells": [
    {
      "cell_type": "code",
      "source": [
        "!pip install scikit-survival"
      ],
      "metadata": {
        "id": "8drZenrF9SwF",
        "colab": {
          "base_uri": "https://localhost:8080/"
        },
        "outputId": "c8ed6e27-03ac-4d21-973e-e6a81544371b"
      },
      "execution_count": 1,
      "outputs": [
        {
          "output_type": "stream",
          "name": "stdout",
          "text": [
            "Collecting scikit-survival\n",
            "  Downloading scikit-survival-0.17.1.tar.gz (2.5 MB)\n",
            "\u001b[K     |████████████████████████████████| 2.5 MB 5.3 MB/s \n",
            "\u001b[?25h  Installing build dependencies ... \u001b[?25l\u001b[?25hdone\n",
            "  Getting requirements to build wheel ... \u001b[?25l\u001b[?25hdone\n",
            "    Preparing wheel metadata ... \u001b[?25l\u001b[?25hdone\n",
            "Requirement already satisfied: ecos in /usr/local/lib/python3.7/dist-packages (from scikit-survival) (2.0.10)\n",
            "Requirement already satisfied: scikit-learn<1.1,>=1.0.0 in /usr/local/lib/python3.7/dist-packages (from scikit-survival) (1.0.2)\n",
            "Requirement already satisfied: numexpr in /usr/local/lib/python3.7/dist-packages (from scikit-survival) (2.8.1)\n",
            "Requirement already satisfied: joblib in /usr/local/lib/python3.7/dist-packages (from scikit-survival) (1.1.0)\n",
            "Requirement already satisfied: osqp!=0.6.0,!=0.6.1 in /usr/local/lib/python3.7/dist-packages (from scikit-survival) (0.6.2.post0)\n",
            "Requirement already satisfied: numpy in /usr/local/lib/python3.7/dist-packages (from scikit-survival) (1.21.5)\n",
            "Requirement already satisfied: pandas>=0.25 in /usr/local/lib/python3.7/dist-packages (from scikit-survival) (1.3.5)\n",
            "Requirement already satisfied: scipy!=1.3.0,>=1.0 in /usr/local/lib/python3.7/dist-packages (from scikit-survival) (1.4.1)\n",
            "Requirement already satisfied: qdldl in /usr/local/lib/python3.7/dist-packages (from osqp!=0.6.0,!=0.6.1->scikit-survival) (0.1.5.post0)\n",
            "Requirement already satisfied: pytz>=2017.3 in /usr/local/lib/python3.7/dist-packages (from pandas>=0.25->scikit-survival) (2018.9)\n",
            "Requirement already satisfied: python-dateutil>=2.7.3 in /usr/local/lib/python3.7/dist-packages (from pandas>=0.25->scikit-survival) (2.8.2)\n",
            "Requirement already satisfied: six>=1.5 in /usr/local/lib/python3.7/dist-packages (from python-dateutil>=2.7.3->pandas>=0.25->scikit-survival) (1.15.0)\n",
            "Requirement already satisfied: threadpoolctl>=2.0.0 in /usr/local/lib/python3.7/dist-packages (from scikit-learn<1.1,>=1.0.0->scikit-survival) (3.1.0)\n",
            "Requirement already satisfied: packaging in /usr/local/lib/python3.7/dist-packages (from numexpr->scikit-survival) (21.3)\n",
            "Requirement already satisfied: pyparsing!=3.0.5,>=2.0.2 in /usr/local/lib/python3.7/dist-packages (from packaging->numexpr->scikit-survival) (3.0.7)\n",
            "Building wheels for collected packages: scikit-survival\n",
            "  Building wheel for scikit-survival (PEP 517) ... \u001b[?25l\u001b[?25hdone\n",
            "  Created wheel for scikit-survival: filename=scikit_survival-0.17.1-cp37-cp37m-linux_x86_64.whl size=4088280 sha256=243afd36e01c75425e2aefe2642affbfd8a165e986c850c829b33661777a1abb\n",
            "  Stored in directory: /root/.cache/pip/wheels/78/43/46/b5c9ba2d44e7e5de3d321c76bbff4e5480cd69d486b38d359f\n",
            "Successfully built scikit-survival\n",
            "Installing collected packages: scikit-survival\n",
            "Successfully installed scikit-survival-0.17.1\n"
          ]
        }
      ]
    },
    {
      "cell_type": "code",
      "source": [
        "from google.colab import drive\n",
        "drive.mount('/content/drive')"
      ],
      "metadata": {
        "id": "wqM-BMQI9QJy",
        "colab": {
          "base_uri": "https://localhost:8080/"
        },
        "outputId": "7bd79b23-b05f-412a-b796-a1cbba713f0b"
      },
      "execution_count": 2,
      "outputs": [
        {
          "output_type": "stream",
          "name": "stdout",
          "text": [
            "Mounted at /content/drive\n"
          ]
        }
      ]
    },
    {
      "cell_type": "code",
      "execution_count": 3,
      "metadata": {
        "id": "gLa2i1DE8996"
      },
      "outputs": [],
      "source": [
        "import pandas as pd\n",
        "import numpy as np\n",
        "import glob\n",
        "%matplotlib inline\n",
        "import matplotlib\n",
        "import matplotlib.pyplot as plt\n",
        "from matplotlib import pyplot\n",
        "import seaborn as sns\n",
        "from datetime import datetime\n",
        "import time\n",
        "from scipy import stats\n",
        "from scipy.stats import norm\n",
        "import plotly.express as px\n",
        "import plotly.graph_objects as go\n",
        "from plotly.subplots import make_subplots\n",
        "import plotly.offline as pyo\n",
        "import warnings\n",
        "import sksurv\n",
        "from sksurv.metrics import(\n",
        "    concordance_index_censored,\n",
        "    concordance_index_ipcw,\n",
        "    cumulative_dynamic_auc,\n",
        "    integrated_brier_score,\n",
        "    as_cumulative_dynamic_auc_scorer,\n",
        "    as_concordance_index_ipcw_scorer,\n",
        "    as_integrated_brier_score_scorer,\n",
        ")\n",
        "warnings.filterwarnings(\"ignore\")"
      ]
    },
    {
      "cell_type": "code",
      "source": [
        "data = pd.read_csv(\"/content/drive/MyDrive/survival_dataset_with_apd.csv\", header='infer', sep=',')\n",
        "data = data.drop(['Unnamed: 0', 'year', 'month', 'date', 'weekday', 'hour', 'minute'], axis=1)\n",
        "data['timeStamp'] = pd.to_datetime(data['timeStamp'], format='%Y-%m-%d %H:%M:%S')\n",
        "data['departDate'] = pd.to_datetime(data['departDate'], format='%Y-%m-%d')\n",
        "data = data.sort_values(by=['timeStamp'])"
      ],
      "metadata": {
        "id": "h54Zm5yg9nor"
      },
      "execution_count": 4,
      "outputs": []
    },
    {
      "cell_type": "code",
      "source": [
        "complete_dataset = pd.DataFrame()\n",
        "data = data[data.advPurchaseDays < 30]\n",
        "\n",
        "for item in list(set(data.advPurchaseDays)):\n",
        "    df = data[data.advPurchaseDays == item]\n",
        "    df = df.sort_values(by=['timeStamp'])\n",
        "    df['pricediff'] = df['totalFare'].diff(1)\n",
        "    df['timediff'] = df['timeStamp'].diff(1)\n",
        "    df['timediff'] = df['timediff'].dt.seconds/60\n",
        "    df = df.iloc[1:]\n",
        "    df['change'] = np.where(df['pricediff'] != 0, True, False)\n",
        "    idx=list(df.columns).index('timeStamp')\n",
        "    idy=list(df.columns).index('totalFare')\n",
        "    \n",
        "    final = []\n",
        "    tempvar = 0\n",
        "    prevflag = True\n",
        "    for i in range(len(df)):\n",
        "        if df.iloc[i, 7] == True:\n",
        "            tempvar = tempvar + df.iloc[i, 6] if prevflag == False else df.iloc[i, 6]\n",
        "            final.append(tempvar)\n",
        "            prevflag=True\n",
        "        else:\n",
        "            tempvar = tempvar + df.iloc[i, 6]\n",
        "            final.append(tempvar)\n",
        "            prevflag=False\n",
        "            \n",
        "    df = df.reset_index(drop=True)\n",
        "    last = pd.concat([df, pd.Series(final)], axis=1)\n",
        "    last.columns = ['timeStamp', 'departDate', 'totalFare', 'sector', 'advPurchaseDays', 'pricediff', 'timediff', 'change', 'survival_mins']\n",
        "    last['year'] = pd.DatetimeIndex(last['timeStamp']).year\n",
        "    last['month'] = pd.DatetimeIndex(last['timeStamp']).month\n",
        "    last['date'] = pd.DatetimeIndex(last['timeStamp']).day\n",
        "    last['weekday'] = pd.DatetimeIndex(last['timeStamp']).weekday\n",
        "    last['hour'] = pd.DatetimeIndex(last['timeStamp']).hour\n",
        "    last['minute'] = pd.DatetimeIndex(last['timeStamp']).minute\n",
        "    last = last[(last.survival_mins > 0)]\n",
        "    \n",
        "    complete_dataset = pd.concat([complete_dataset, last], axis=0)\n",
        "    print(item)"
      ],
      "metadata": {
        "id": "gKyLhmyy-OWg"
      },
      "execution_count": null,
      "outputs": []
    },
    {
      "cell_type": "code",
      "source": [
        "complete_dataset"
      ],
      "metadata": {
        "colab": {
          "base_uri": "https://localhost:8080/",
          "height": 424
        },
        "id": "6tEs6W-k-SM-",
        "outputId": "8c42916e-650e-430d-bdd7-23fead5936c5"
      },
      "execution_count": null,
      "outputs": [
        {
          "output_type": "execute_result",
          "data": {
            "text/plain": [
              "               timeStamp departDate  totalFare   sector  advPurchaseDays  \\\n",
              "0    2022-01-19 00:29:41 2022-01-20       7424  DEL-GOI                0   \n",
              "1    2022-01-19 01:02:34 2022-01-20       7424  DEL-GOI                0   \n",
              "2    2022-01-19 01:30:18 2022-01-20      14319  DEL-GOI                0   \n",
              "3    2022-01-19 02:32:44 2022-01-20      14319  DEL-GOI                0   \n",
              "4    2022-01-19 02:48:43 2022-01-20       7424  DEL-GOI                0   \n",
              "...                  ...        ...        ...      ...              ...   \n",
              "1416 2022-02-08 20:31:57 2022-02-08      17368  DEL-GOI               -1   \n",
              "1417 2022-02-08 20:46:40 2022-02-08       7424  DEL-GOI               -1   \n",
              "1418 2022-02-08 21:01:01 2022-02-08       7424  DEL-GOI               -1   \n",
              "1419 2022-02-08 21:22:23 2022-02-08       7424  DEL-GOI               -1   \n",
              "1420 2022-02-08 21:25:40 2022-02-08      23953  DEL-GOI               -1   \n",
              "\n",
              "      pricediff   timediff  change  survival_mins  year  month  date  weekday  \\\n",
              "0           0.0  27.800000   False      27.800000  2022      1    19        2   \n",
              "1           0.0  32.883333   False      60.683333  2022      1    19        2   \n",
              "2        6895.0  27.733333    True      88.416667  2022      1    19        2   \n",
              "3           0.0  62.433333   False     150.850000  2022      1    19        2   \n",
              "4       -6895.0  15.983333    True     166.833333  2022      1    19        2   \n",
              "...         ...        ...     ...            ...   ...    ...   ...      ...   \n",
              "1416     9944.0  31.850000    True      31.850000  2022      2     8        1   \n",
              "1417    -9944.0  14.716667    True      14.716667  2022      2     8        1   \n",
              "1418        0.0  14.350000   False      29.066667  2022      2     8        1   \n",
              "1419        0.0  21.366667   False      50.433333  2022      2     8        1   \n",
              "1420    16529.0   3.283333    True      53.716667  2022      2     8        1   \n",
              "\n",
              "      hour  minute  \n",
              "0        0      29  \n",
              "1        1       2  \n",
              "2        1      30  \n",
              "3        2      32  \n",
              "4        2      48  \n",
              "...    ...     ...  \n",
              "1416    20      31  \n",
              "1417    20      46  \n",
              "1418    21       1  \n",
              "1419    21      22  \n",
              "1420    21      25  \n",
              "\n",
              "[53314 rows x 15 columns]"
            ],
            "text/html": [
              "\n",
              "  <div id=\"df-ae0a559d-29b8-492c-ba28-925615ffcde5\">\n",
              "    <div class=\"colab-df-container\">\n",
              "      <div>\n",
              "<style scoped>\n",
              "    .dataframe tbody tr th:only-of-type {\n",
              "        vertical-align: middle;\n",
              "    }\n",
              "\n",
              "    .dataframe tbody tr th {\n",
              "        vertical-align: top;\n",
              "    }\n",
              "\n",
              "    .dataframe thead th {\n",
              "        text-align: right;\n",
              "    }\n",
              "</style>\n",
              "<table border=\"1\" class=\"dataframe\">\n",
              "  <thead>\n",
              "    <tr style=\"text-align: right;\">\n",
              "      <th></th>\n",
              "      <th>timeStamp</th>\n",
              "      <th>departDate</th>\n",
              "      <th>totalFare</th>\n",
              "      <th>sector</th>\n",
              "      <th>advPurchaseDays</th>\n",
              "      <th>pricediff</th>\n",
              "      <th>timediff</th>\n",
              "      <th>change</th>\n",
              "      <th>survival_mins</th>\n",
              "      <th>year</th>\n",
              "      <th>month</th>\n",
              "      <th>date</th>\n",
              "      <th>weekday</th>\n",
              "      <th>hour</th>\n",
              "      <th>minute</th>\n",
              "    </tr>\n",
              "  </thead>\n",
              "  <tbody>\n",
              "    <tr>\n",
              "      <th>0</th>\n",
              "      <td>2022-01-19 00:29:41</td>\n",
              "      <td>2022-01-20</td>\n",
              "      <td>7424</td>\n",
              "      <td>DEL-GOI</td>\n",
              "      <td>0</td>\n",
              "      <td>0.0</td>\n",
              "      <td>27.800000</td>\n",
              "      <td>False</td>\n",
              "      <td>27.800000</td>\n",
              "      <td>2022</td>\n",
              "      <td>1</td>\n",
              "      <td>19</td>\n",
              "      <td>2</td>\n",
              "      <td>0</td>\n",
              "      <td>29</td>\n",
              "    </tr>\n",
              "    <tr>\n",
              "      <th>1</th>\n",
              "      <td>2022-01-19 01:02:34</td>\n",
              "      <td>2022-01-20</td>\n",
              "      <td>7424</td>\n",
              "      <td>DEL-GOI</td>\n",
              "      <td>0</td>\n",
              "      <td>0.0</td>\n",
              "      <td>32.883333</td>\n",
              "      <td>False</td>\n",
              "      <td>60.683333</td>\n",
              "      <td>2022</td>\n",
              "      <td>1</td>\n",
              "      <td>19</td>\n",
              "      <td>2</td>\n",
              "      <td>1</td>\n",
              "      <td>2</td>\n",
              "    </tr>\n",
              "    <tr>\n",
              "      <th>2</th>\n",
              "      <td>2022-01-19 01:30:18</td>\n",
              "      <td>2022-01-20</td>\n",
              "      <td>14319</td>\n",
              "      <td>DEL-GOI</td>\n",
              "      <td>0</td>\n",
              "      <td>6895.0</td>\n",
              "      <td>27.733333</td>\n",
              "      <td>True</td>\n",
              "      <td>88.416667</td>\n",
              "      <td>2022</td>\n",
              "      <td>1</td>\n",
              "      <td>19</td>\n",
              "      <td>2</td>\n",
              "      <td>1</td>\n",
              "      <td>30</td>\n",
              "    </tr>\n",
              "    <tr>\n",
              "      <th>3</th>\n",
              "      <td>2022-01-19 02:32:44</td>\n",
              "      <td>2022-01-20</td>\n",
              "      <td>14319</td>\n",
              "      <td>DEL-GOI</td>\n",
              "      <td>0</td>\n",
              "      <td>0.0</td>\n",
              "      <td>62.433333</td>\n",
              "      <td>False</td>\n",
              "      <td>150.850000</td>\n",
              "      <td>2022</td>\n",
              "      <td>1</td>\n",
              "      <td>19</td>\n",
              "      <td>2</td>\n",
              "      <td>2</td>\n",
              "      <td>32</td>\n",
              "    </tr>\n",
              "    <tr>\n",
              "      <th>4</th>\n",
              "      <td>2022-01-19 02:48:43</td>\n",
              "      <td>2022-01-20</td>\n",
              "      <td>7424</td>\n",
              "      <td>DEL-GOI</td>\n",
              "      <td>0</td>\n",
              "      <td>-6895.0</td>\n",
              "      <td>15.983333</td>\n",
              "      <td>True</td>\n",
              "      <td>166.833333</td>\n",
              "      <td>2022</td>\n",
              "      <td>1</td>\n",
              "      <td>19</td>\n",
              "      <td>2</td>\n",
              "      <td>2</td>\n",
              "      <td>48</td>\n",
              "    </tr>\n",
              "    <tr>\n",
              "      <th>...</th>\n",
              "      <td>...</td>\n",
              "      <td>...</td>\n",
              "      <td>...</td>\n",
              "      <td>...</td>\n",
              "      <td>...</td>\n",
              "      <td>...</td>\n",
              "      <td>...</td>\n",
              "      <td>...</td>\n",
              "      <td>...</td>\n",
              "      <td>...</td>\n",
              "      <td>...</td>\n",
              "      <td>...</td>\n",
              "      <td>...</td>\n",
              "      <td>...</td>\n",
              "      <td>...</td>\n",
              "    </tr>\n",
              "    <tr>\n",
              "      <th>1416</th>\n",
              "      <td>2022-02-08 20:31:57</td>\n",
              "      <td>2022-02-08</td>\n",
              "      <td>17368</td>\n",
              "      <td>DEL-GOI</td>\n",
              "      <td>-1</td>\n",
              "      <td>9944.0</td>\n",
              "      <td>31.850000</td>\n",
              "      <td>True</td>\n",
              "      <td>31.850000</td>\n",
              "      <td>2022</td>\n",
              "      <td>2</td>\n",
              "      <td>8</td>\n",
              "      <td>1</td>\n",
              "      <td>20</td>\n",
              "      <td>31</td>\n",
              "    </tr>\n",
              "    <tr>\n",
              "      <th>1417</th>\n",
              "      <td>2022-02-08 20:46:40</td>\n",
              "      <td>2022-02-08</td>\n",
              "      <td>7424</td>\n",
              "      <td>DEL-GOI</td>\n",
              "      <td>-1</td>\n",
              "      <td>-9944.0</td>\n",
              "      <td>14.716667</td>\n",
              "      <td>True</td>\n",
              "      <td>14.716667</td>\n",
              "      <td>2022</td>\n",
              "      <td>2</td>\n",
              "      <td>8</td>\n",
              "      <td>1</td>\n",
              "      <td>20</td>\n",
              "      <td>46</td>\n",
              "    </tr>\n",
              "    <tr>\n",
              "      <th>1418</th>\n",
              "      <td>2022-02-08 21:01:01</td>\n",
              "      <td>2022-02-08</td>\n",
              "      <td>7424</td>\n",
              "      <td>DEL-GOI</td>\n",
              "      <td>-1</td>\n",
              "      <td>0.0</td>\n",
              "      <td>14.350000</td>\n",
              "      <td>False</td>\n",
              "      <td>29.066667</td>\n",
              "      <td>2022</td>\n",
              "      <td>2</td>\n",
              "      <td>8</td>\n",
              "      <td>1</td>\n",
              "      <td>21</td>\n",
              "      <td>1</td>\n",
              "    </tr>\n",
              "    <tr>\n",
              "      <th>1419</th>\n",
              "      <td>2022-02-08 21:22:23</td>\n",
              "      <td>2022-02-08</td>\n",
              "      <td>7424</td>\n",
              "      <td>DEL-GOI</td>\n",
              "      <td>-1</td>\n",
              "      <td>0.0</td>\n",
              "      <td>21.366667</td>\n",
              "      <td>False</td>\n",
              "      <td>50.433333</td>\n",
              "      <td>2022</td>\n",
              "      <td>2</td>\n",
              "      <td>8</td>\n",
              "      <td>1</td>\n",
              "      <td>21</td>\n",
              "      <td>22</td>\n",
              "    </tr>\n",
              "    <tr>\n",
              "      <th>1420</th>\n",
              "      <td>2022-02-08 21:25:40</td>\n",
              "      <td>2022-02-08</td>\n",
              "      <td>23953</td>\n",
              "      <td>DEL-GOI</td>\n",
              "      <td>-1</td>\n",
              "      <td>16529.0</td>\n",
              "      <td>3.283333</td>\n",
              "      <td>True</td>\n",
              "      <td>53.716667</td>\n",
              "      <td>2022</td>\n",
              "      <td>2</td>\n",
              "      <td>8</td>\n",
              "      <td>1</td>\n",
              "      <td>21</td>\n",
              "      <td>25</td>\n",
              "    </tr>\n",
              "  </tbody>\n",
              "</table>\n",
              "<p>53314 rows × 15 columns</p>\n",
              "</div>\n",
              "      <button class=\"colab-df-convert\" onclick=\"convertToInteractive('df-ae0a559d-29b8-492c-ba28-925615ffcde5')\"\n",
              "              title=\"Convert this dataframe to an interactive table.\"\n",
              "              style=\"display:none;\">\n",
              "        \n",
              "  <svg xmlns=\"http://www.w3.org/2000/svg\" height=\"24px\"viewBox=\"0 0 24 24\"\n",
              "       width=\"24px\">\n",
              "    <path d=\"M0 0h24v24H0V0z\" fill=\"none\"/>\n",
              "    <path d=\"M18.56 5.44l.94 2.06.94-2.06 2.06-.94-2.06-.94-.94-2.06-.94 2.06-2.06.94zm-11 1L8.5 8.5l.94-2.06 2.06-.94-2.06-.94L8.5 2.5l-.94 2.06-2.06.94zm10 10l.94 2.06.94-2.06 2.06-.94-2.06-.94-.94-2.06-.94 2.06-2.06.94z\"/><path d=\"M17.41 7.96l-1.37-1.37c-.4-.4-.92-.59-1.43-.59-.52 0-1.04.2-1.43.59L10.3 9.45l-7.72 7.72c-.78.78-.78 2.05 0 2.83L4 21.41c.39.39.9.59 1.41.59.51 0 1.02-.2 1.41-.59l7.78-7.78 2.81-2.81c.8-.78.8-2.07 0-2.86zM5.41 20L4 18.59l7.72-7.72 1.47 1.35L5.41 20z\"/>\n",
              "  </svg>\n",
              "      </button>\n",
              "      \n",
              "  <style>\n",
              "    .colab-df-container {\n",
              "      display:flex;\n",
              "      flex-wrap:wrap;\n",
              "      gap: 12px;\n",
              "    }\n",
              "\n",
              "    .colab-df-convert {\n",
              "      background-color: #E8F0FE;\n",
              "      border: none;\n",
              "      border-radius: 50%;\n",
              "      cursor: pointer;\n",
              "      display: none;\n",
              "      fill: #1967D2;\n",
              "      height: 32px;\n",
              "      padding: 0 0 0 0;\n",
              "      width: 32px;\n",
              "    }\n",
              "\n",
              "    .colab-df-convert:hover {\n",
              "      background-color: #E2EBFA;\n",
              "      box-shadow: 0px 1px 2px rgba(60, 64, 67, 0.3), 0px 1px 3px 1px rgba(60, 64, 67, 0.15);\n",
              "      fill: #174EA6;\n",
              "    }\n",
              "\n",
              "    [theme=dark] .colab-df-convert {\n",
              "      background-color: #3B4455;\n",
              "      fill: #D2E3FC;\n",
              "    }\n",
              "\n",
              "    [theme=dark] .colab-df-convert:hover {\n",
              "      background-color: #434B5C;\n",
              "      box-shadow: 0px 1px 3px 1px rgba(0, 0, 0, 0.15);\n",
              "      filter: drop-shadow(0px 1px 2px rgba(0, 0, 0, 0.3));\n",
              "      fill: #FFFFFF;\n",
              "    }\n",
              "  </style>\n",
              "\n",
              "      <script>\n",
              "        const buttonEl =\n",
              "          document.querySelector('#df-ae0a559d-29b8-492c-ba28-925615ffcde5 button.colab-df-convert');\n",
              "        buttonEl.style.display =\n",
              "          google.colab.kernel.accessAllowed ? 'block' : 'none';\n",
              "\n",
              "        async function convertToInteractive(key) {\n",
              "          const element = document.querySelector('#df-ae0a559d-29b8-492c-ba28-925615ffcde5');\n",
              "          const dataTable =\n",
              "            await google.colab.kernel.invokeFunction('convertToInteractive',\n",
              "                                                     [key], {});\n",
              "          if (!dataTable) return;\n",
              "\n",
              "          const docLinkHtml = 'Like what you see? Visit the ' +\n",
              "            '<a target=\"_blank\" href=https://colab.research.google.com/notebooks/data_table.ipynb>data table notebook</a>'\n",
              "            + ' to learn more about interactive tables.';\n",
              "          element.innerHTML = '';\n",
              "          dataTable['output_type'] = 'display_data';\n",
              "          await google.colab.output.renderOutput(dataTable, element);\n",
              "          const docLink = document.createElement('div');\n",
              "          docLink.innerHTML = docLinkHtml;\n",
              "          element.appendChild(docLink);\n",
              "        }\n",
              "      </script>\n",
              "    </div>\n",
              "  </div>\n",
              "  "
            ]
          },
          "metadata": {},
          "execution_count": 44
        }
      ]
    },
    {
      "cell_type": "code",
      "source": [
        "complete_dataset['advPurchaseDays'].value_counts()"
      ],
      "metadata": {
        "id": "ThTFzhtp1z1a"
      },
      "execution_count": null,
      "outputs": []
    },
    {
      "cell_type": "code",
      "source": [
        "df = complete_dataset[(complete_dataset.timediff > 0)]\n",
        "df = df.loc[df['advPurchaseDays'] > 20]\n",
        "idx = df.columns.isin(['totalFare', 'advPurchaseDays', 'year', 'month', 'date', 'weekday', 'hour', 'minute'])\n",
        "X_train = df.iloc[:-900, idx]\n",
        "idy = df.columns.isin(['change', 'timediff'])\n",
        "y_train = df.iloc[:-900, idy]\n",
        "aux = [(e2,e1) for e1,e2 in y_train.to_numpy()]\n",
        "y_train = np.array(aux, dtype=[('Status', '?'), ('Survival_in_days', '<f8')])\n",
        "X_test = df.iloc[-900:, idx]\n",
        "y_test = df.iloc[-900:, idy]\n",
        "aux = [(e2,e1) for e1,e2 in y_test.to_numpy()]\n",
        "y_test = np.array(aux, dtype=[('Status', '?'), ('Survival_in_days', '<f8')])\n",
        "print(X_train.shape, y_train.shape, X_test.shape, y_test.shape)"
      ],
      "metadata": {
        "id": "QRZ-4pBO-U21",
        "colab": {
          "base_uri": "https://localhost:8080/"
        },
        "outputId": "f21bf0c2-c870-4a97-a87f-537a61ec080d"
      },
      "execution_count": 6,
      "outputs": [
        {
          "output_type": "stream",
          "name": "stdout",
          "text": [
            "(11315, 8) (11315,) (900, 8) (900,)\n"
          ]
        }
      ]
    },
    {
      "cell_type": "code",
      "source": [
        "from sksurv.ensemble import RandomSurvivalForest\n",
        "from sklearn.model_selection import train_test_split\n",
        "\n",
        "X_train, X_test, y_train, y_test = train_test_split(X_train, y_train, test_size=0.25, random_state=41)\n",
        "print(X_train.shape, y_train.shape, X_test.shape, y_test.shape)\n",
        "rsf = RandomSurvivalForest(n_estimators=100,\n",
        "                           min_samples_split=8,\n",
        "                           min_samples_leaf=12,\n",
        "                           max_features=\"sqrt\",\n",
        "                           n_jobs=-1,\n",
        "                           random_state=20)\n",
        "rsf.fit(X_train, y_train)"
      ],
      "metadata": {
        "id": "91FhB2lJ-UvF",
        "colab": {
          "base_uri": "https://localhost:8080/"
        },
        "outputId": "7687f93d-2224-49a2-ecff-127182c6cade"
      },
      "execution_count": 7,
      "outputs": [
        {
          "output_type": "stream",
          "name": "stdout",
          "text": [
            "(8486, 8) (8486,) (2829, 8) (2829,)\n"
          ]
        },
        {
          "output_type": "execute_result",
          "data": {
            "text/plain": [
              "RandomSurvivalForest(max_features='sqrt', min_samples_leaf=12,\n",
              "                     min_samples_split=8, n_jobs=-1, random_state=20)"
            ]
          },
          "metadata": {},
          "execution_count": 7
        }
      ]
    },
    {
      "cell_type": "markdown",
      "source": [
        "Concordance Index"
      ],
      "metadata": {
        "id": "Zwilx1ytiprs"
      }
    },
    {
      "cell_type": "code",
      "source": [
        "rsf.score(X_test, y_test)"
      ],
      "metadata": {
        "id": "VfWpShy--fpH",
        "colab": {
          "base_uri": "https://localhost:8080/"
        },
        "outputId": "f3830d0b-a2a5-446c-dc7d-12471406415c"
      },
      "execution_count": null,
      "outputs": [
        {
          "output_type": "execute_result",
          "data": {
            "text/plain": [
              "0.6704295644641909"
            ]
          },
          "metadata": {},
          "execution_count": 7
        }
      ]
    },
    {
      "cell_type": "code",
      "source": [
        "print(concordance_index_censored(y_test['Status'], y_test['Survival_in_days'], cph_risk_scores))\n",
        "print(concordance_index_ipcw(y_train, y_test, cph_risk_scores))"
      ],
      "metadata": {
        "colab": {
          "base_uri": "https://localhost:8080/"
        },
        "id": "I3lsFsnrSDDm",
        "outputId": "1505ce47-9b9d-46fd-a30a-0a3337eada32"
      },
      "execution_count": null,
      "outputs": [
        {
          "output_type": "stream",
          "name": "stdout",
          "text": [
            "(0.6704295644641909, 1998485, 982417, 1, 961)\n",
            "(0.6662956698739918, 1998485, 982417, 1, 961)\n"
          ]
        }
      ]
    },
    {
      "cell_type": "code",
      "source": [
        "survs = rsf.predict_survival_function(X_test)\n",
        "for i in range(len(survs)):\n",
        "  survs[i].y = 1-survs[i].y\n",
        "threshold = 0.6\n",
        "for fn in survs:\n",
        "   plt.step(fn.x, fn(fn.x), where=\"post\")\n",
        "\n",
        "plt.ylim(0, 1)\n",
        "plt.show()"
      ],
      "metadata": {
        "colab": {
          "base_uri": "https://localhost:8080/",
          "height": 268
        },
        "id": "sduXkhr8mXub",
        "outputId": "80d216c3-bacd-45a3-ef1d-c72550f25342"
      },
      "execution_count": null,
      "outputs": [
        {
          "output_type": "display_data",
          "data": {
            "text/plain": [
              "<Figure size 432x288 with 1 Axes>"
            ],
            "image/png": "[encoded data removed]"
          },
          "metadata": {
            "needs_background": "light"
          }
        }
      ]
    },
    {
      "cell_type": "code",
      "source": [
        "def inv(y, survs, j) : \n",
        "  lo = 0 \n",
        "  hi = survs[j].x[-1]\n",
        "  while(lo < hi) : \n",
        "    mid = (lo+hi)/2\n",
        "    val = survs[0](mid) \n",
        "    if abs(val-y) <= 1e-4 : \n",
        "      return mid \n",
        "    elif val < y : \n",
        "      lo = mid + 1 \n",
        "    else :\n",
        "      hi = mid - 1 \n",
        "  return lo "
      ],
      "metadata": {
        "id": "1kXo3Xn_nxjT"
      },
      "execution_count": null,
      "outputs": []
    },
    {
      "cell_type": "code",
      "source": [
        "error = []\n",
        "from sklearn.metrics import mean_absolute_error\n",
        "y_true = y_test['Survival_in_days']\n",
        "\n",
        "intervals = np.arange(0, 1, 0.05)\n",
        "for interval in intervals:\n",
        "  y_pred = []\n",
        "  for i in range(len(survs)):\n",
        "    y_pred.append(inv(interval, survs, i))\n",
        "  error.append(mean_absolute_error(y_true, y_pred))"
      ],
      "metadata": {
        "id": "4zldUR75x1YX"
      },
      "execution_count": null,
      "outputs": []
    },
    {
      "cell_type": "code",
      "source": [
        "import plotly.express as px\n",
        "fig = px.line(x=intervals , y=error)\n",
        "fig.update_layout(\n",
        "    width = 600,\n",
        "    xaxis_title='Threshold',\n",
        "    yaxis_title='Mean Absolute Error (minutes)'\n",
        ")\n",
        "fig.show()"
      ],
      "metadata": {
        "colab": {
          "base_uri": "https://localhost:8080/",
          "height": 542
        },
        "id": "gvUQ00V7rxQz",
        "outputId": "347afb3c-71d7-4063-a6df-ca38e7630dbc"
      },
      "execution_count": null,
      "outputs": [
        {
          "output_type": "display_data",
          "data": {
            "text/html": [
              "<html>\n",
              "<head><meta charset=\"utf-8\" /></head>\n",
              "<body>\n",
              "    <div>            <script src=\"https://cdnjs.cloudflare.com/ajax/libs/mathjax/2.7.5/MathJax.js?config=TeX-AMS-MML_SVG\"></script><script type=\"text/javascript\">if (window.MathJax) {MathJax.Hub.Config({SVG: {font: \"STIX-Web\"}});}</script>                <script type=\"text/javascript\">window.PlotlyConfig = {MathJaxConfig: 'local'};</script>\n",
              "        <script src=\"https://cdn.plot.ly/plotly-2.8.3.min.js\"></script>                <div id=\"30b25a93-e84f-4925-850f-dcbc5ebe069c\" class=\"plotly-graph-div\" style=\"height:525px; width:600px;\"></div>            <script type=\"text/javascript\">                                    window.PLOTLYENV=window.PLOTLYENV || {};                                    if (document.getElementById(\"30b25a93-e84f-4925-850f-dcbc5ebe069c\")) {                    Plotly.newPlot(                        \"30b25a93-e84f-4925-850f-dcbc5ebe069c\",                        [{\"hovertemplate\":\"x=%{x}<br>y=%{y}<extra></extra>\",\"legendgroup\":\"\",\"line\":{\"color\":\"#636efa\",\"dash\":\"solid\"},\"marker\":{\"symbol\":\"circle\"},\"mode\":\"lines\",\"name\":\"\",\"orientation\":\"v\",\"showlegend\":false,\"x\":[0.0,0.05,0.1,0.15000000000000002,0.2,0.25,0.30000000000000004,0.35000000000000003,0.4,0.45,0.5,0.55,0.6000000000000001,0.65,0.7000000000000001,0.75,0.8,0.8500000000000001,0.9,0.9500000000000001],\"xaxis\":\"x\",\"y\":[20.330835395310476,19.3554142663964,18.590127294870097,18.590127294870097,17.58705672094085,17.58705672094085,16.949636542009102,16.949636542009102,16.949636542009102,17.01861608655149,17.366993867459055,17.90148777634176,18.60719059296571,19.452120959813538,22.10973953960837,24.649536826083278,29.0277420268683,35.63226774450998,50.270203889496436,100.39969928732914],\"yaxis\":\"y\",\"type\":\"scatter\"}],                        {\"template\":{\"data\":{\"bar\":[{\"error_x\":{\"color\":\"#2a3f5f\"},\"error_y\":{\"color\":\"#2a3f5f\"},\"marker\":{\"line\":{\"color\":\"#E5ECF6\",\"width\":0.5},\"pattern\":{\"fillmode\":\"overlay\",\"size\":10,\"solidity\":0.2}},\"type\":\"bar\"}],\"barpolar\":[{\"marker\":{\"line\":{\"color\":\"#E5ECF6\",\"width\":0.5},\"pattern\":{\"fillmode\":\"overlay\",\"size\":10,\"solidity\":0.2}},\"type\":\"barpolar\"}],\"carpet\":[{\"aaxis\":{\"endlinecolor\":\"#2a3f5f\",\"gridcolor\":\"white\",\"linecolor\":\"white\",\"minorgridcolor\":\"white\",\"startlinecolor\":\"#2a3f5f\"},\"baxis\":{\"endlinecolor\":\"#2a3f5f\",\"gridcolor\":\"white\",\"linecolor\":\"white\",\"minorgridcolor\":\"white\",\"startlinecolor\":\"#2a3f5f\"},\"type\":\"carpet\"}],\"choropleth\":[{\"colorbar\":{\"outlinewidth\":0,\"ticks\":\"\"},\"type\":\"choropleth\"}],\"contour\":[{\"colorbar\":{\"outlinewidth\":0,\"ticks\":\"\"},\"colorscale\":[[0.0,\"#0d0887\"],[0.1111111111111111,\"#46039f\"],[0.2222222222222222,\"#7201a8\"],[0.3333333333333333,\"#9c179e\"],[0.4444444444444444,\"#bd3786\"],[0.5555555555555556,\"#d8576b\"],[0.6666666666666666,\"#ed7953\"],[0.7777777777777778,\"#fb9f3a\"],[0.8888888888888888,\"#fdca26\"],[1.0,\"#f0f921\"]],\"type\":\"contour\"}],\"contourcarpet\":[{\"colorbar\":{\"outlinewidth\":0,\"ticks\":\"\"},\"type\":\"contourcarpet\"}],\"heatmap\":[{\"colorbar\":{\"outlinewidth\":0,\"ticks\":\"\"},\"colorscale\":[[0.0,\"#0d0887\"],[0.1111111111111111,\"#46039f\"],[0.2222222222222222,\"#7201a8\"],[0.3333333333333333,\"#9c179e\"],[0.4444444444444444,\"#bd3786\"],[0.5555555555555556,\"#d8576b\"],[0.6666666666666666,\"#ed7953\"],[0.7777777777777778,\"#fb9f3a\"],[0.8888888888888888,\"#fdca26\"],[1.0,\"#f0f921\"]],\"type\":\"heatmap\"}],\"heatmapgl\":[{\"colorbar\":{\"outlinewidth\":0,\"ticks\":\"\"},\"colorscale\":[[0.0,\"#0d0887\"],[0.1111111111111111,\"#46039f\"],[0.2222222222222222,\"#7201a8\"],[0.3333333333333333,\"#9c179e\"],[0.4444444444444444,\"#bd3786\"],[0.5555555555555556,\"#d8576b\"],[0.6666666666666666,\"#ed7953\"],[0.7777777777777778,\"#fb9f3a\"],[0.8888888888888888,\"#fdca26\"],[1.0,\"#f0f921\"]],\"type\":\"heatmapgl\"}],\"histogram\":[{\"marker\":{\"pattern\":{\"fillmode\":\"overlay\",\"size\":10,\"solidity\":0.2}},\"type\":\"histogram\"}],\"histogram2d\":[{\"colorbar\":{\"outlinewidth\":0,\"ticks\":\"\"},\"colorscale\":[[0.0,\"#0d0887\"],[0.1111111111111111,\"#46039f\"],[0.2222222222222222,\"#7201a8\"],[0.3333333333333333,\"#9c179e\"],[0.4444444444444444,\"#bd3786\"],[0.5555555555555556,\"#d8576b\"],[0.6666666666666666,\"#ed7953\"],[0.7777777777777778,\"#fb9f3a\"],[0.8888888888888888,\"#fdca26\"],[1.0,\"#f0f921\"]],\"type\":\"histogram2d\"}],\"histogram2dcontour\":[{\"colorbar\":{\"outlinewidth\":0,\"ticks\":\"\"},\"colorscale\":[[0.0,\"#0d0887\"],[0.1111111111111111,\"#46039f\"],[0.2222222222222222,\"#7201a8\"],[0.3333333333333333,\"#9c179e\"],[0.4444444444444444,\"#bd3786\"],[0.5555555555555556,\"#d8576b\"],[0.6666666666666666,\"#ed7953\"],[0.7777777777777778,\"#fb9f3a\"],[0.8888888888888888,\"#fdca26\"],[1.0,\"#f0f921\"]],\"type\":\"histogram2dcontour\"}],\"mesh3d\":[{\"colorbar\":{\"outlinewidth\":0,\"ticks\":\"\"},\"type\":\"mesh3d\"}],\"parcoords\":[{\"line\":{\"colorbar\":{\"outlinewidth\":0,\"ticks\":\"\"}},\"type\":\"parcoords\"}],\"pie\":[{\"automargin\":true,\"type\":\"pie\"}],\"scatter\":[{\"marker\":{\"colorbar\":{\"outlinewidth\":0,\"ticks\":\"\"}},\"type\":\"scatter\"}],\"scatter3d\":[{\"line\":{\"colorbar\":{\"outlinewidth\":0,\"ticks\":\"\"}},\"marker\":{\"colorbar\":{\"outlinewidth\":0,\"ticks\":\"\"}},\"type\":\"scatter3d\"}],\"scattercarpet\":[{\"marker\":{\"colorbar\":{\"outlinewidth\":0,\"ticks\":\"\"}},\"type\":\"scattercarpet\"}],\"scattergeo\":[{\"marker\":{\"colorbar\":{\"outlinewidth\":0,\"ticks\":\"\"}},\"type\":\"scattergeo\"}],\"scattergl\":[{\"marker\":{\"colorbar\":{\"outlinewidth\":0,\"ticks\":\"\"}},\"type\":\"scattergl\"}],\"scattermapbox\":[{\"marker\":{\"colorbar\":{\"outlinewidth\":0,\"ticks\":\"\"}},\"type\":\"scattermapbox\"}],\"scatterpolar\":[{\"marker\":{\"colorbar\":{\"outlinewidth\":0,\"ticks\":\"\"}},\"type\":\"scatterpolar\"}],\"scatterpolargl\":[{\"marker\":{\"colorbar\":{\"outlinewidth\":0,\"ticks\":\"\"}},\"type\":\"scatterpolargl\"}],\"scatterternary\":[{\"marker\":{\"colorbar\":{\"outlinewidth\":0,\"ticks\":\"\"}},\"type\":\"scatterternary\"}],\"surface\":[{\"colorbar\":{\"outlinewidth\":0,\"ticks\":\"\"},\"colorscale\":[[0.0,\"#0d0887\"],[0.1111111111111111,\"#46039f\"],[0.2222222222222222,\"#7201a8\"],[0.3333333333333333,\"#9c179e\"],[0.4444444444444444,\"#bd3786\"],[0.5555555555555556,\"#d8576b\"],[0.6666666666666666,\"#ed7953\"],[0.7777777777777778,\"#fb9f3a\"],[0.8888888888888888,\"#fdca26\"],[1.0,\"#f0f921\"]],\"type\":\"surface\"}],\"table\":[{\"cells\":{\"fill\":{\"color\":\"#EBF0F8\"},\"line\":{\"color\":\"white\"}},\"header\":{\"fill\":{\"color\":\"#C8D4E3\"},\"line\":{\"color\":\"white\"}},\"type\":\"table\"}]},\"layout\":{\"annotationdefaults\":{\"arrowcolor\":\"#2a3f5f\",\"arrowhead\":0,\"arrowwidth\":1},\"autotypenumbers\":\"strict\",\"coloraxis\":{\"colorbar\":{\"outlinewidth\":0,\"ticks\":\"\"}},\"colorscale\":{\"diverging\":[[0,\"#8e0152\"],[0.1,\"#c51b7d\"],[0.2,\"#de77ae\"],[0.3,\"#f1b6da\"],[0.4,\"#fde0ef\"],[0.5,\"#f7f7f7\"],[0.6,\"#e6f5d0\"],[0.7,\"#b8e186\"],[0.8,\"#7fbc41\"],[0.9,\"#4d9221\"],[1,\"#276419\"]],\"sequential\":[[0.0,\"#0d0887\"],[0.1111111111111111,\"#46039f\"],[0.2222222222222222,\"#7201a8\"],[0.3333333333333333,\"#9c179e\"],[0.4444444444444444,\"#bd3786\"],[0.5555555555555556,\"#d8576b\"],[0.6666666666666666,\"#ed7953\"],[0.7777777777777778,\"#fb9f3a\"],[0.8888888888888888,\"#fdca26\"],[1.0,\"#f0f921\"]],\"sequentialminus\":[[0.0,\"#0d0887\"],[0.1111111111111111,\"#46039f\"],[0.2222222222222222,\"#7201a8\"],[0.3333333333333333,\"#9c179e\"],[0.4444444444444444,\"#bd3786\"],[0.5555555555555556,\"#d8576b\"],[0.6666666666666666,\"#ed7953\"],[0.7777777777777778,\"#fb9f3a\"],[0.8888888888888888,\"#fdca26\"],[1.0,\"#f0f921\"]]},\"colorway\":[\"#636efa\",\"#EF553B\",\"#00cc96\",\"#ab63fa\",\"#FFA15A\",\"#19d3f3\",\"#FF6692\",\"#B6E880\",\"#FF97FF\",\"#FECB52\"],\"font\":{\"color\":\"#2a3f5f\"},\"geo\":{\"bgcolor\":\"white\",\"lakecolor\":\"white\",\"landcolor\":\"#E5ECF6\",\"showlakes\":true,\"showland\":true,\"subunitcolor\":\"white\"},\"hoverlabel\":{\"align\":\"left\"},\"hovermode\":\"closest\",\"mapbox\":{\"style\":\"light\"},\"paper_bgcolor\":\"white\",\"plot_bgcolor\":\"#E5ECF6\",\"polar\":{\"angularaxis\":{\"gridcolor\":\"white\",\"linecolor\":\"white\",\"ticks\":\"\"},\"bgcolor\":\"#E5ECF6\",\"radialaxis\":{\"gridcolor\":\"white\",\"linecolor\":\"white\",\"ticks\":\"\"}},\"scene\":{\"xaxis\":{\"backgroundcolor\":\"#E5ECF6\",\"gridcolor\":\"white\",\"gridwidth\":2,\"linecolor\":\"white\",\"showbackground\":true,\"ticks\":\"\",\"zerolinecolor\":\"white\"},\"yaxis\":{\"backgroundcolor\":\"#E5ECF6\",\"gridcolor\":\"white\",\"gridwidth\":2,\"linecolor\":\"white\",\"showbackground\":true,\"ticks\":\"\",\"zerolinecolor\":\"white\"},\"zaxis\":{\"backgroundcolor\":\"#E5ECF6\",\"gridcolor\":\"white\",\"gridwidth\":2,\"linecolor\":\"white\",\"showbackground\":true,\"ticks\":\"\",\"zerolinecolor\":\"white\"}},\"shapedefaults\":{\"line\":{\"color\":\"#2a3f5f\"}},\"ternary\":{\"aaxis\":{\"gridcolor\":\"white\",\"linecolor\":\"white\",\"ticks\":\"\"},\"baxis\":{\"gridcolor\":\"white\",\"linecolor\":\"white\",\"ticks\":\"\"},\"bgcolor\":\"#E5ECF6\",\"caxis\":{\"gridcolor\":\"white\",\"linecolor\":\"white\",\"ticks\":\"\"}},\"title\":{\"x\":0.05},\"xaxis\":{\"automargin\":true,\"gridcolor\":\"white\",\"linecolor\":\"white\",\"ticks\":\"\",\"title\":{\"standoff\":15},\"zerolinecolor\":\"white\",\"zerolinewidth\":2},\"yaxis\":{\"automargin\":true,\"gridcolor\":\"white\",\"linecolor\":\"white\",\"ticks\":\"\",\"title\":{\"standoff\":15},\"zerolinecolor\":\"white\",\"zerolinewidth\":2}}},\"xaxis\":{\"anchor\":\"y\",\"domain\":[0.0,1.0],\"title\":{\"text\":\"Threshold\"}},\"yaxis\":{\"anchor\":\"x\",\"domain\":[0.0,1.0],\"title\":{\"text\":\"Mean Absolute Error (minutes)\"}},\"legend\":{\"tracegroupgap\":0},\"margin\":{\"t\":60},\"width\":600},                        {\"responsive\": true}                    ).then(function(){\n",
              "                            \n",
              "var gd = document.getElementById('30b25a93-e84f-4925-850f-dcbc5ebe069c');\n",
              "var x = new MutationObserver(function (mutations, observer) {{\n",
              "        var display = window.getComputedStyle(gd).display;\n",
              "        if (!display || display === 'none') {{\n",
              "            console.log([gd, 'removed!']);\n",
              "            Plotly.purge(gd);\n",
              "            observer.disconnect();\n",
              "        }}\n",
              "}});\n",
              "\n",
              "// Listen for the removal of the full notebook cells\n",
              "var notebookContainer = gd.closest('#notebook-container');\n",
              "if (notebookContainer) {{\n",
              "    x.observe(notebookContainer, {childList: true});\n",
              "}}\n",
              "\n",
              "// Listen for the clearing of the current output cell\n",
              "var outputEl = gd.closest('.output');\n",
              "if (outputEl) {{\n",
              "    x.observe(outputEl, {childList: true});\n",
              "}}\n",
              "\n",
              "                        })                };                            </script>        </div>\n",
              "</body>\n",
              "</html>"
            ]
          },
          "metadata": {}
        }
      ]
    },
    {
      "cell_type": "markdown",
      "source": [
        "Integrated Brier Score for RSF"
      ],
      "metadata": {
        "id": "jBrQxuBplvpL"
      }
    },
    {
      "cell_type": "code",
      "source": [
        "survs = rsf.predict_survival_function(X_test)\n",
        "times = np.arange(2, 400)\n",
        "preds = np.asarray([[1-fn(t) for t in times] for fn in survs])\n",
        "\n",
        "from sksurv.metrics import integrated_brier_score\n",
        "score = integrated_brier_score(y_test, y_test, preds, times)\n",
        "print(score)"
      ],
      "metadata": {
        "colab": {
          "base_uri": "https://localhost:8080/"
        },
        "id": "OoF0AXfvkXPr",
        "outputId": "7c4b05a1-831a-489e-f7ff-2954c40fd036"
      },
      "execution_count": null,
      "outputs": [
        {
          "output_type": "stream",
          "name": "stdout",
          "text": [
            "0.8234583934594882\n"
          ]
        }
      ]
    },
    {
      "cell_type": "markdown",
      "source": [
        "Cumulative Dynamic AUC for RSF"
      ],
      "metadata": {
        "id": "jNuv_rXLl7t8"
      }
    },
    {
      "cell_type": "code",
      "source": [
        "\n",
        "va_times = np.arange(8, 340, 7)\n",
        "cph_risk_scores = rsf.predict(X_test)\n",
        "cph_auc, cph_mean_auc = cumulative_dynamic_auc(\n",
        "    y_train, y_test, cph_risk_scores, va_times\n",
        ")\n",
        "\n",
        "fig = px.line(x=va_times, y=cph_auc, markers=True)\n",
        "fig.add_hline(cph_mean_auc)\n",
        "fig.show()"
      ],
      "metadata": {
        "colab": {
          "base_uri": "https://localhost:8080/",
          "height": 542
        },
        "id": "ikC0aa-Ilukz",
        "outputId": "affe76e3-87ed-4eeb-b9f7-dd2aa62707b7"
      },
      "execution_count": null,
      "outputs": [
        {
          "output_type": "display_data",
          "data": {
            "text/html": [
              "<html>\n",
              "<head><meta charset=\"utf-8\" /></head>\n",
              "<body>\n",
              "    <div>            <script src=\"https://cdnjs.cloudflare.com/ajax/libs/mathjax/2.7.5/MathJax.js?config=TeX-AMS-MML_SVG\"></script><script type=\"text/javascript\">if (window.MathJax) {MathJax.Hub.Config({SVG: {font: \"STIX-Web\"}});}</script>                <script type=\"text/javascript\">window.PlotlyConfig = {MathJaxConfig: 'local'};</script>\n",
              "        <script src=\"https://cdn.plot.ly/plotly-2.8.3.min.js\"></script>                <div id=\"2ac8dbce-8ce6-4399-8cfe-aa24fb23d5d3\" class=\"plotly-graph-div\" style=\"height:525px; width:100%;\"></div>            <script type=\"text/javascript\">                                    window.PLOTLYENV=window.PLOTLYENV || {};                                    if (document.getElementById(\"2ac8dbce-8ce6-4399-8cfe-aa24fb23d5d3\")) {                    Plotly.newPlot(                        \"2ac8dbce-8ce6-4399-8cfe-aa24fb23d5d3\",                        [{\"hovertemplate\":\"x=%{x}<br>y=%{y}<extra></extra>\",\"legendgroup\":\"\",\"line\":{\"color\":\"#636efa\",\"dash\":\"solid\"},\"marker\":{\"symbol\":\"circle\"},\"mode\":\"lines+markers\",\"name\":\"\",\"orientation\":\"v\",\"showlegend\":false,\"x\":[8,15,22,29,36,43,50,57,64,71,78,85,92,99,106,113,120,127,134,141,148,155,162,169,176,183,190,197,204,211,218,225,232,239,246,253,260,267,274,281,288,295,302,309,316,323,330,337],\"xaxis\":\"x\",\"y\":[0.7275128487500266,0.752812784982995,0.7601967146152167,0.7731174898328168,0.7734723907018869,0.7907410807595745,0.7959660598436724,0.8158383110581864,0.8315728063348682,0.8500893107736853,0.8576782109395179,0.8630294398948914,0.8614705404245344,0.8752285895814387,0.8874378311336946,0.8968190435416385,0.894006858895356,0.892296201364877,0.904227027696721,0.9045341617751756,0.9134400343007877,0.9205607319616712,0.9170464213598333,0.9104435067893878,0.9142156125258704,0.9356211206646765,0.9331865502700989,0.9331865502700989,0.9311208095587329,0.945591800065076,0.9383989264687459,0.9378482393855889,0.9355913357263298,0.9292153083864875,0.9223755487136966,0.9286330904595758,0.9286330904595758,0.9286330904595758,0.9286330904595758,0.92167319730294,0.92167319730294,0.9431314220329452,0.9431314220329452,0.9431314220329452,0.9431314220329452,0.9431314220329452,0.9378221608092744,0.9378221608092744],\"yaxis\":\"y\",\"type\":\"scatter\"}],                        {\"template\":{\"data\":{\"bar\":[{\"error_x\":{\"color\":\"#2a3f5f\"},\"error_y\":{\"color\":\"#2a3f5f\"},\"marker\":{\"line\":{\"color\":\"#E5ECF6\",\"width\":0.5},\"pattern\":{\"fillmode\":\"overlay\",\"size\":10,\"solidity\":0.2}},\"type\":\"bar\"}],\"barpolar\":[{\"marker\":{\"line\":{\"color\":\"#E5ECF6\",\"width\":0.5},\"pattern\":{\"fillmode\":\"overlay\",\"size\":10,\"solidity\":0.2}},\"type\":\"barpolar\"}],\"carpet\":[{\"aaxis\":{\"endlinecolor\":\"#2a3f5f\",\"gridcolor\":\"white\",\"linecolor\":\"white\",\"minorgridcolor\":\"white\",\"startlinecolor\":\"#2a3f5f\"},\"baxis\":{\"endlinecolor\":\"#2a3f5f\",\"gridcolor\":\"white\",\"linecolor\":\"white\",\"minorgridcolor\":\"white\",\"startlinecolor\":\"#2a3f5f\"},\"type\":\"carpet\"}],\"choropleth\":[{\"colorbar\":{\"outlinewidth\":0,\"ticks\":\"\"},\"type\":\"choropleth\"}],\"contour\":[{\"colorbar\":{\"outlinewidth\":0,\"ticks\":\"\"},\"colorscale\":[[0.0,\"#0d0887\"],[0.1111111111111111,\"#46039f\"],[0.2222222222222222,\"#7201a8\"],[0.3333333333333333,\"#9c179e\"],[0.4444444444444444,\"#bd3786\"],[0.5555555555555556,\"#d8576b\"],[0.6666666666666666,\"#ed7953\"],[0.7777777777777778,\"#fb9f3a\"],[0.8888888888888888,\"#fdca26\"],[1.0,\"#f0f921\"]],\"type\":\"contour\"}],\"contourcarpet\":[{\"colorbar\":{\"outlinewidth\":0,\"ticks\":\"\"},\"type\":\"contourcarpet\"}],\"heatmap\":[{\"colorbar\":{\"outlinewidth\":0,\"ticks\":\"\"},\"colorscale\":[[0.0,\"#0d0887\"],[0.1111111111111111,\"#46039f\"],[0.2222222222222222,\"#7201a8\"],[0.3333333333333333,\"#9c179e\"],[0.4444444444444444,\"#bd3786\"],[0.5555555555555556,\"#d8576b\"],[0.6666666666666666,\"#ed7953\"],[0.7777777777777778,\"#fb9f3a\"],[0.8888888888888888,\"#fdca26\"],[1.0,\"#f0f921\"]],\"type\":\"heatmap\"}],\"heatmapgl\":[{\"colorbar\":{\"outlinewidth\":0,\"ticks\":\"\"},\"colorscale\":[[0.0,\"#0d0887\"],[0.1111111111111111,\"#46039f\"],[0.2222222222222222,\"#7201a8\"],[0.3333333333333333,\"#9c179e\"],[0.4444444444444444,\"#bd3786\"],[0.5555555555555556,\"#d8576b\"],[0.6666666666666666,\"#ed7953\"],[0.7777777777777778,\"#fb9f3a\"],[0.8888888888888888,\"#fdca26\"],[1.0,\"#f0f921\"]],\"type\":\"heatmapgl\"}],\"histogram\":[{\"marker\":{\"pattern\":{\"fillmode\":\"overlay\",\"size\":10,\"solidity\":0.2}},\"type\":\"histogram\"}],\"histogram2d\":[{\"colorbar\":{\"outlinewidth\":0,\"ticks\":\"\"},\"colorscale\":[[0.0,\"#0d0887\"],[0.1111111111111111,\"#46039f\"],[0.2222222222222222,\"#7201a8\"],[0.3333333333333333,\"#9c179e\"],[0.4444444444444444,\"#bd3786\"],[0.5555555555555556,\"#d8576b\"],[0.6666666666666666,\"#ed7953\"],[0.7777777777777778,\"#fb9f3a\"],[0.8888888888888888,\"#fdca26\"],[1.0,\"#f0f921\"]],\"type\":\"histogram2d\"}],\"histogram2dcontour\":[{\"colorbar\":{\"outlinewidth\":0,\"ticks\":\"\"},\"colorscale\":[[0.0,\"#0d0887\"],[0.1111111111111111,\"#46039f\"],[0.2222222222222222,\"#7201a8\"],[0.3333333333333333,\"#9c179e\"],[0.4444444444444444,\"#bd3786\"],[0.5555555555555556,\"#d8576b\"],[0.6666666666666666,\"#ed7953\"],[0.7777777777777778,\"#fb9f3a\"],[0.8888888888888888,\"#fdca26\"],[1.0,\"#f0f921\"]],\"type\":\"histogram2dcontour\"}],\"mesh3d\":[{\"colorbar\":{\"outlinewidth\":0,\"ticks\":\"\"},\"type\":\"mesh3d\"}],\"parcoords\":[{\"line\":{\"colorbar\":{\"outlinewidth\":0,\"ticks\":\"\"}},\"type\":\"parcoords\"}],\"pie\":[{\"automargin\":true,\"type\":\"pie\"}],\"scatter\":[{\"marker\":{\"colorbar\":{\"outlinewidth\":0,\"ticks\":\"\"}},\"type\":\"scatter\"}],\"scatter3d\":[{\"line\":{\"colorbar\":{\"outlinewidth\":0,\"ticks\":\"\"}},\"marker\":{\"colorbar\":{\"outlinewidth\":0,\"ticks\":\"\"}},\"type\":\"scatter3d\"}],\"scattercarpet\":[{\"marker\":{\"colorbar\":{\"outlinewidth\":0,\"ticks\":\"\"}},\"type\":\"scattercarpet\"}],\"scattergeo\":[{\"marker\":{\"colorbar\":{\"outlinewidth\":0,\"ticks\":\"\"}},\"type\":\"scattergeo\"}],\"scattergl\":[{\"marker\":{\"colorbar\":{\"outlinewidth\":0,\"ticks\":\"\"}},\"type\":\"scattergl\"}],\"scattermapbox\":[{\"marker\":{\"colorbar\":{\"outlinewidth\":0,\"ticks\":\"\"}},\"type\":\"scattermapbox\"}],\"scatterpolar\":[{\"marker\":{\"colorbar\":{\"outlinewidth\":0,\"ticks\":\"\"}},\"type\":\"scatterpolar\"}],\"scatterpolargl\":[{\"marker\":{\"colorbar\":{\"outlinewidth\":0,\"ticks\":\"\"}},\"type\":\"scatterpolargl\"}],\"scatterternary\":[{\"marker\":{\"colorbar\":{\"outlinewidth\":0,\"ticks\":\"\"}},\"type\":\"scatterternary\"}],\"surface\":[{\"colorbar\":{\"outlinewidth\":0,\"ticks\":\"\"},\"colorscale\":[[0.0,\"#0d0887\"],[0.1111111111111111,\"#46039f\"],[0.2222222222222222,\"#7201a8\"],[0.3333333333333333,\"#9c179e\"],[0.4444444444444444,\"#bd3786\"],[0.5555555555555556,\"#d8576b\"],[0.6666666666666666,\"#ed7953\"],[0.7777777777777778,\"#fb9f3a\"],[0.8888888888888888,\"#fdca26\"],[1.0,\"#f0f921\"]],\"type\":\"surface\"}],\"table\":[{\"cells\":{\"fill\":{\"color\":\"#EBF0F8\"},\"line\":{\"color\":\"white\"}},\"header\":{\"fill\":{\"color\":\"#C8D4E3\"},\"line\":{\"color\":\"white\"}},\"type\":\"table\"}]},\"layout\":{\"annotationdefaults\":{\"arrowcolor\":\"#2a3f5f\",\"arrowhead\":0,\"arrowwidth\":1},\"autotypenumbers\":\"strict\",\"coloraxis\":{\"colorbar\":{\"outlinewidth\":0,\"ticks\":\"\"}},\"colorscale\":{\"diverging\":[[0,\"#8e0152\"],[0.1,\"#c51b7d\"],[0.2,\"#de77ae\"],[0.3,\"#f1b6da\"],[0.4,\"#fde0ef\"],[0.5,\"#f7f7f7\"],[0.6,\"#e6f5d0\"],[0.7,\"#b8e186\"],[0.8,\"#7fbc41\"],[0.9,\"#4d9221\"],[1,\"#276419\"]],\"sequential\":[[0.0,\"#0d0887\"],[0.1111111111111111,\"#46039f\"],[0.2222222222222222,\"#7201a8\"],[0.3333333333333333,\"#9c179e\"],[0.4444444444444444,\"#bd3786\"],[0.5555555555555556,\"#d8576b\"],[0.6666666666666666,\"#ed7953\"],[0.7777777777777778,\"#fb9f3a\"],[0.8888888888888888,\"#fdca26\"],[1.0,\"#f0f921\"]],\"sequentialminus\":[[0.0,\"#0d0887\"],[0.1111111111111111,\"#46039f\"],[0.2222222222222222,\"#7201a8\"],[0.3333333333333333,\"#9c179e\"],[0.4444444444444444,\"#bd3786\"],[0.5555555555555556,\"#d8576b\"],[0.6666666666666666,\"#ed7953\"],[0.7777777777777778,\"#fb9f3a\"],[0.8888888888888888,\"#fdca26\"],[1.0,\"#f0f921\"]]},\"colorway\":[\"#636efa\",\"#EF553B\",\"#00cc96\",\"#ab63fa\",\"#FFA15A\",\"#19d3f3\",\"#FF6692\",\"#B6E880\",\"#FF97FF\",\"#FECB52\"],\"font\":{\"color\":\"#2a3f5f\"},\"geo\":{\"bgcolor\":\"white\",\"lakecolor\":\"white\",\"landcolor\":\"#E5ECF6\",\"showlakes\":true,\"showland\":true,\"subunitcolor\":\"white\"},\"hoverlabel\":{\"align\":\"left\"},\"hovermode\":\"closest\",\"mapbox\":{\"style\":\"light\"},\"paper_bgcolor\":\"white\",\"plot_bgcolor\":\"#E5ECF6\",\"polar\":{\"angularaxis\":{\"gridcolor\":\"white\",\"linecolor\":\"white\",\"ticks\":\"\"},\"bgcolor\":\"#E5ECF6\",\"radialaxis\":{\"gridcolor\":\"white\",\"linecolor\":\"white\",\"ticks\":\"\"}},\"scene\":{\"xaxis\":{\"backgroundcolor\":\"#E5ECF6\",\"gridcolor\":\"white\",\"gridwidth\":2,\"linecolor\":\"white\",\"showbackground\":true,\"ticks\":\"\",\"zerolinecolor\":\"white\"},\"yaxis\":{\"backgroundcolor\":\"#E5ECF6\",\"gridcolor\":\"white\",\"gridwidth\":2,\"linecolor\":\"white\",\"showbackground\":true,\"ticks\":\"\",\"zerolinecolor\":\"white\"},\"zaxis\":{\"backgroundcolor\":\"#E5ECF6\",\"gridcolor\":\"white\",\"gridwidth\":2,\"linecolor\":\"white\",\"showbackground\":true,\"ticks\":\"\",\"zerolinecolor\":\"white\"}},\"shapedefaults\":{\"line\":{\"color\":\"#2a3f5f\"}},\"ternary\":{\"aaxis\":{\"gridcolor\":\"white\",\"linecolor\":\"white\",\"ticks\":\"\"},\"baxis\":{\"gridcolor\":\"white\",\"linecolor\":\"white\",\"ticks\":\"\"},\"bgcolor\":\"#E5ECF6\",\"caxis\":{\"gridcolor\":\"white\",\"linecolor\":\"white\",\"ticks\":\"\"}},\"title\":{\"x\":0.05},\"xaxis\":{\"automargin\":true,\"gridcolor\":\"white\",\"linecolor\":\"white\",\"ticks\":\"\",\"title\":{\"standoff\":15},\"zerolinecolor\":\"white\",\"zerolinewidth\":2},\"yaxis\":{\"automargin\":true,\"gridcolor\":\"white\",\"linecolor\":\"white\",\"ticks\":\"\",\"title\":{\"standoff\":15},\"zerolinecolor\":\"white\",\"zerolinewidth\":2}}},\"xaxis\":{\"anchor\":\"y\",\"domain\":[0.0,1.0],\"title\":{\"text\":\"x\"}},\"yaxis\":{\"anchor\":\"x\",\"domain\":[0.0,1.0],\"title\":{\"text\":\"y\"}},\"legend\":{\"tracegroupgap\":0},\"margin\":{\"t\":60},\"shapes\":[{\"type\":\"line\",\"x0\":0,\"x1\":1,\"xref\":\"x domain\",\"y0\":0.768856994900132,\"y1\":0.768856994900132,\"yref\":\"y\"}]},                        {\"responsive\": true}                    ).then(function(){\n",
              "                            \n",
              "var gd = document.getElementById('2ac8dbce-8ce6-4399-8cfe-aa24fb23d5d3');\n",
              "var x = new MutationObserver(function (mutations, observer) {{\n",
              "        var display = window.getComputedStyle(gd).display;\n",
              "        if (!display || display === 'none') {{\n",
              "            console.log([gd, 'removed!']);\n",
              "            Plotly.purge(gd);\n",
              "            observer.disconnect();\n",
              "        }}\n",
              "}});\n",
              "\n",
              "// Listen for the removal of the full notebook cells\n",
              "var notebookContainer = gd.closest('#notebook-container');\n",
              "if (notebookContainer) {{\n",
              "    x.observe(notebookContainer, {childList: true});\n",
              "}}\n",
              "\n",
              "// Listen for the clearing of the current output cell\n",
              "var outputEl = gd.closest('.output');\n",
              "if (outputEl) {{\n",
              "    x.observe(outputEl, {childList: true});\n",
              "}}\n",
              "\n",
              "                        })                };                            </script>        </div>\n",
              "</body>\n",
              "</html>"
            ]
          },
          "metadata": {}
        }
      ]
    },
    {
      "cell_type": "code",
      "source": [
        "chf_funcs = rsf.predict_survival_function(X_test[:10])\n",
        "\n",
        "for fn in chf_funcs:\n",
        "   plt.step(fn.x, 1-fn(fn.x), where=\"post\")\n",
        "\n",
        "plt.ylim(0, 1)\n",
        "plt.show()"
      ],
      "metadata": {
        "colab": {
          "base_uri": "https://localhost:8080/",
          "height": 269
        },
        "id": "X5cJ7V7KP1Fv",
        "outputId": "1459252f-fc55-4f21-84c9-2c72daab1dbb"
      },
      "execution_count": null,
      "outputs": [
        {
          "output_type": "display_data",
          "data": {
            "text/plain": [
              "<Figure size 432x288 with 1 Axes>"
            ],
            "image/png": "[encoded data removed]"
          },
          "metadata": {
            "needs_background": "light"
          }
        }
      ]
    },
    {
      "cell_type": "code",
      "source": [
        "from sksurv.metrics import as_integrated_brier_score_scorer\n",
        "asbs = as_integrated_brier_score_scorer(rsf, times)\n",
        "asbs.fit(X_train, y_train)"
      ],
      "metadata": {
        "id": "ESQcqLqfjnL0"
      },
      "execution_count": null,
      "outputs": []
    },
    {
      "cell_type": "code",
      "source": [
        "asbs.score(X_test, y_test)"
      ],
      "metadata": {
        "colab": {
          "base_uri": "https://localhost:8080/"
        },
        "id": "rx5PE2nZkrB0",
        "outputId": "1e336c12-598f-4142-d4e5-ae0c87650209"
      },
      "execution_count": null,
      "outputs": [
        {
          "output_type": "execute_result",
          "data": {
            "text/plain": [
              "-0.04438544711740865"
            ]
          },
          "metadata": {},
          "execution_count": 15
        }
      ]
    },
    {
      "cell_type": "markdown",
      "source": [
        "Model Integrated Metrics (Random Survival Forest)\n",
        "1. Brier Score\n",
        "2. Cumulative/Dynamic AUC\n",
        "3. Concordance Index IPCW"
      ],
      "metadata": {
        "id": "CJnjdAxtqdyC"
      }
    },
    {
      "cell_type": "code",
      "source": [
        "asbs = as_integrated_brier_score_scorer(rsf, times)\n",
        "asas = as_cumulative_dynamic_auc_scorer(rsf, times)\n",
        "asis = as_concordance_index_ipcw_scorer(rsf)\n",
        "\n",
        "asbs.fit(X_train, y_train)\n",
        "asas.fit(X_train, y_train)\n",
        "asis.fit(X_train, y_train)\n",
        "\n",
        "print('asbs', asbs.score(X_test, y_test))\n",
        "print('asas', asas.score(X_test, y_test))\n",
        "print('asis', asis.score(X_test, y_test))"
      ],
      "metadata": {
        "colab": {
          "base_uri": "https://localhost:8080/"
        },
        "id": "REp0EgX4l0_D",
        "outputId": "36923938-8fb7-4595-b28c-e4fc285ded86"
      },
      "execution_count": null,
      "outputs": [
        {
          "output_type": "stream",
          "name": "stdout",
          "text": [
            "asbs -0.04438544711740865\n",
            "asas 0.7582115993783259\n",
            "asis 0.6662956698739918\n"
          ]
        }
      ]
    },
    {
      "cell_type": "code",
      "source": [
        "from sksurv.ensemble import ComponentwiseGradientBoostingSurvivalAnalysis\n",
        "from sksurv.ensemble import GradientBoostingSurvivalAnalysis\n",
        "from sksurv.preprocessing import OneHotEncoder\n",
        "\n",
        "est_cph_tree = GradientBoostingSurvivalAnalysis(\n",
        "    n_estimators=100, learning_rate=1.0, max_depth=1, random_state=0\n",
        ")\n",
        "\n",
        "est_cph_tree.fit(X_train, y_train)\n",
        "cindex = est_cph_tree.score(X_test, y_test)\n",
        "print(round(cindex, 3))"
      ],
      "metadata": {
        "id": "HqHHljPT7s1C",
        "colab": {
          "base_uri": "https://localhost:8080/"
        },
        "outputId": "bafb0fa4-053d-476d-c366-15b56784883c"
      },
      "execution_count": null,
      "outputs": [
        {
          "output_type": "stream",
          "name": "stdout",
          "text": [
            "0.545\n"
          ]
        }
      ]
    },
    {
      "cell_type": "code",
      "source": [
        "from sksurv.linear_model import CoxPHSurvivalAnalysis, CoxnetSurvivalAnalysis\n",
        "cox_elastic_net = CoxnetSurvivalAnalysis(l1_ratio=0.9, alpha_min_ratio=0.01)\n",
        "cox_elastic_net.fit(X_train, y_train)"
      ],
      "metadata": {
        "id": "WhsDNdPKLwV9",
        "colab": {
          "base_uri": "https://localhost:8080/"
        },
        "outputId": "ff02ce0b-4493-4c5d-fe18-0c5ce4888f61"
      },
      "execution_count": null,
      "outputs": [
        {
          "output_type": "execute_result",
          "data": {
            "text/plain": [
              "CoxnetSurvivalAnalysis(alpha_min_ratio=0.01, l1_ratio=0.9)"
            ]
          },
          "metadata": {},
          "execution_count": 7
        }
      ]
    },
    {
      "cell_type": "code",
      "source": [
        "cox_elastic_net.score(X_test, y_test)"
      ],
      "metadata": {
        "colab": {
          "base_uri": "https://localhost:8080/"
        },
        "id": "cFkXAmdfN869",
        "outputId": "91daf6e6-1419-450a-de17-6132c2060e2c"
      },
      "execution_count": null,
      "outputs": [
        {
          "output_type": "execute_result",
          "data": {
            "text/plain": [
              "0.5997628516180816"
            ]
          },
          "metadata": {},
          "execution_count": 8
        }
      ]
    },
    {
      "cell_type": "code",
      "source": [
        "from sksurv.metrics import (\n",
        "    concordance_index_censored,\n",
        "    concordance_index_ipcw,\n",
        "    cumulative_dynamic_auc,\n",
        "    integrated_brier_score,\n",
        ")\n",
        "va_times = np.arange(8, 340, 7)\n",
        "cph_risk_scores = cox_elastic_net.predict(X_test)\n",
        "cph_auc, cph_mean_auc = cumulative_dynamic_auc(\n",
        "    y_train, y_test, cph_risk_scores, va_times\n",
        ")\n",
        "\n",
        "plt.plot(va_times, cph_auc, marker=\"o\")\n",
        "plt.axhline(cph_mean_auc, linestyle=\"--\")\n",
        "plt.xlabel(\"days from enrollment\")\n",
        "plt.ylabel(\"time-dependent AUC\")\n",
        "plt.grid(True)\n"
      ],
      "metadata": {
        "colab": {
          "base_uri": "https://localhost:8080/",
          "height": 279
        },
        "id": "KF0_VtZFbXWs",
        "outputId": "5249c168-28a9-4c34-eef9-6ad072dc578f"
      },
      "execution_count": null,
      "outputs": [
        {
          "output_type": "display_data",
          "data": {
            "text/plain": [
              "<Figure size 432x288 with 1 Axes>"
            ],
            "image/png": "[encoded data removed]"
          },
          "metadata": {
            "needs_background": "light"
          }
        }
      ]
    },
    {
      "cell_type": "code",
      "source": [
        "X_train.dtype"
      ],
      "metadata": {
        "id": "J89McW_aQHdY"
      },
      "execution_count": null,
      "outputs": []
    },
    {
      "cell_type": "code",
      "source": [
        "from sksurv.metrics import concordance_index_censored\n",
        "from sksurv.svm import FastSurvivalSVM\n",
        "\n",
        "estimator = FastSurvivalSVM(max_iter=1000, tol=1e-5, random_state=0)\n",
        "\n",
        "estimator.fit(X_train, y_train)"
      ],
      "metadata": {
        "id": "ip3OTLNFOZqP"
      },
      "execution_count": null,
      "outputs": []
    },
    {
      "cell_type": "code",
      "source": [
        ""
      ],
      "metadata": {
        "id": "rjYG1UHiPqEn"
      },
      "execution_count": null,
      "outputs": []
    }
  ]
}